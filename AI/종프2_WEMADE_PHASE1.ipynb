{
  "nbformat": 4,
  "nbformat_minor": 0,
  "metadata": {
    "colab": {
      "provenance": []
    },
    "kernelspec": {
      "name": "python3",
      "display_name": "Python 3"
    },
    "language_info": {
      "name": "python"
    }
  },
  "cells": [
    {
      "cell_type": "code",
      "execution_count": 2,
      "metadata": {
        "id": "86RIg3Tx3C-v",
        "colab": {
          "base_uri": "https://localhost:8080/"
        },
        "outputId": "664d7ce2-b56a-4aae-e151-b2a83bd6ac21"
      },
      "outputs": [
        {
          "output_type": "stream",
          "name": "stdout",
          "text": [
            "Drive already mounted at /content/drive; to attempt to forcibly remount, call drive.mount(\"/content/drive\", force_remount=True).\n"
          ]
        }
      ],
      "source": [
        "# 시작하기 전에 mount하기\n",
        "from google.colab import drive\n",
        "drive.mount('/content/drive')"
      ]
    },
    {
      "cell_type": "code",
      "source": [
        "import pandas as pd\n",
        "import numpy as np\n",
        "\n",
        "data = pd.read_sas('/content/drive/MyDrive/hn18_all.sas7bdat', format = 'sas7bdat')\n",
        "# hn18_all.sas7bdat 파일의 경로 복사하기 (국민건강영양조사 데이터셋 사용)"
      ],
      "metadata": {
        "id": "qEMAysRs3JYp"
      },
      "execution_count": 3,
      "outputs": []
    },
    {
      "cell_type": "code",
      "source": [
        "# 원시 데이터 가공하기\n",
        "\n",
        "selected_data = data[['DI1_dg', 'sex', 'age', 'HE_sbp', 'HE_dbp', 'HE_BMI', 'HE_PLS']]\n",
        "\n",
        "#흡연 여부\n",
        "selected_data['sm_present'] = ((data['BS1_1'].isin([1, 2]) & data['BS3_1'].isin([1, 2, 3])) | (data['BS1_1'] == 3)).astype(int)\n",
        "selected_data.loc[data['BS1_1'] == 2, 'sm_present'] = (data['BS3_1'].isin([1, 2])).astype(int)\n",
        "\n",
        "#pa_walk : 주5회 걷기 운동을 30분이상 실천한 여부\n",
        "data['pa_hb30_1'] = data['BE3_32'] * 60 + data['BE3_33']\n",
        "selected_data['pa_walk'] = (data['BE3_31'].isin([6, 7, 8]) & (data['pa_hb30_1'] >= 30)).astype(int)\n",
        "\n",
        "#수면시간\n",
        "data['sleep'] = np.where((data['BP16_11'].isin([88,99]) | data['BP16_12'].isin([88,99]) | data['BP16_13'].isin([88,99]) | data['BP16_14'].isin([88,99])),\n",
        "                         None, (data['BP16_13']+data['BP16_14']/60 - data['BP16_11']+data['BP16_12']/60 + 24)%24)\n",
        "selected_data['total_sleep'] = data['sleep']"
      ],
      "metadata": {
        "id": "3-IbYtU63K01",
        "colab": {
          "base_uri": "https://localhost:8080/"
        },
        "outputId": "2f0da3fe-75f5-4640-8876-f9a51f413c78"
      },
      "execution_count": 4,
      "outputs": [
        {
          "output_type": "stream",
          "name": "stderr",
          "text": [
            "<ipython-input-4-46bbd2ca4711>:6: SettingWithCopyWarning: \n",
            "A value is trying to be set on a copy of a slice from a DataFrame.\n",
            "Try using .loc[row_indexer,col_indexer] = value instead\n",
            "\n",
            "See the caveats in the documentation: https://pandas.pydata.org/pandas-docs/stable/user_guide/indexing.html#returning-a-view-versus-a-copy\n",
            "  selected_data['sm_present'] = ((data['BS1_1'].isin([1, 2]) & data['BS3_1'].isin([1, 2, 3])) | (data['BS1_1'] == 3)).astype(int)\n",
            "<ipython-input-4-46bbd2ca4711>:10: PerformanceWarning: DataFrame is highly fragmented.  This is usually the result of calling `frame.insert` many times, which has poor performance.  Consider joining all columns at once using pd.concat(axis=1) instead. To get a de-fragmented frame, use `newframe = frame.copy()`\n",
            "  data['pa_hb30_1'] = data['BE3_32'] * 60 + data['BE3_33']\n",
            "<ipython-input-4-46bbd2ca4711>:11: SettingWithCopyWarning: \n",
            "A value is trying to be set on a copy of a slice from a DataFrame.\n",
            "Try using .loc[row_indexer,col_indexer] = value instead\n",
            "\n",
            "See the caveats in the documentation: https://pandas.pydata.org/pandas-docs/stable/user_guide/indexing.html#returning-a-view-versus-a-copy\n",
            "  selected_data['pa_walk'] = (data['BE3_31'].isin([6, 7, 8]) & (data['pa_hb30_1'] >= 30)).astype(int)\n",
            "<ipython-input-4-46bbd2ca4711>:14: PerformanceWarning: DataFrame is highly fragmented.  This is usually the result of calling `frame.insert` many times, which has poor performance.  Consider joining all columns at once using pd.concat(axis=1) instead. To get a de-fragmented frame, use `newframe = frame.copy()`\n",
            "  data['sleep'] = np.where((data['BP16_11'].isin([88,99]) | data['BP16_12'].isin([88,99]) | data['BP16_13'].isin([88,99]) | data['BP16_14'].isin([88,99])),\n",
            "<ipython-input-4-46bbd2ca4711>:16: SettingWithCopyWarning: \n",
            "A value is trying to be set on a copy of a slice from a DataFrame.\n",
            "Try using .loc[row_indexer,col_indexer] = value instead\n",
            "\n",
            "See the caveats in the documentation: https://pandas.pydata.org/pandas-docs/stable/user_guide/indexing.html#returning-a-view-versus-a-copy\n",
            "  selected_data['total_sleep'] = data['sleep']\n"
          ]
        }
      ]
    },
    {
      "cell_type": "code",
      "source": [
        "# dropna 함수를 사용해 결측치가 포함된 행을 제거\n",
        "\n",
        "print(selected_data.shape)\n",
        "selected_data = selected_data.dropna()\n",
        "print(selected_data.shape)"
      ],
      "metadata": {
        "id": "HfE1hICz3MSE",
        "colab": {
          "base_uri": "https://localhost:8080/"
        },
        "outputId": "15928f9e-b777-4192-90ce-7336cdff9975"
      },
      "execution_count": 5,
      "outputs": [
        {
          "output_type": "stream",
          "name": "stdout",
          "text": [
            "(7992, 10)\n",
            "(5929, 10)\n"
          ]
        }
      ]
    },
    {
      "cell_type": "code",
      "source": [
        "from sklearn.model_selection import train_test_split\n",
        "\n",
        "X = selected_data.drop('DI1_dg', axis=1).dropna()\n",
        "y = selected_data.loc[X.index, 'DI1_dg']\n",
        "\n",
        "X_train, X_test, y_train, y_test = train_test_split(X, y, test_size=0.2, random_state=42)\n",
        "\n",
        "X_train = X_train.astype('float')\n",
        "X_test = X_test.astype('float')\n",
        "y_train = y_train.astype('int')\n",
        "y_test = y_test.astype('int')"
      ],
      "metadata": {
        "id": "KVu4Ml193Nur"
      },
      "execution_count": 7,
      "outputs": []
    },
    {
      "cell_type": "code",
      "source": [
        "print(X_train.dtypes)\n",
        "print('-')\n",
        "print('고혈압 여부: ' + str(y_train.dtypes))"
      ],
      "metadata": {
        "id": "t5B3x2d93SUy",
        "colab": {
          "base_uri": "https://localhost:8080/"
        },
        "outputId": "210db55d-3226-4f2d-dfba-963b04127963"
      },
      "execution_count": 8,
      "outputs": [
        {
          "output_type": "stream",
          "name": "stdout",
          "text": [
            "sex            float64\n",
            "age            float64\n",
            "HE_sbp         float64\n",
            "HE_dbp         float64\n",
            "HE_BMI         float64\n",
            "HE_PLS         float64\n",
            "sm_present     float64\n",
            "pa_walk        float64\n",
            "total_sleep    float64\n",
            "dtype: object\n",
            "-\n",
            "고혈압 여부: int64\n"
          ]
        }
      ]
    },
    {
      "cell_type": "code",
      "source": [
        "print('나이')\n",
        "print(max(X_train['age'].values))\n",
        "print(min(X_train['age'].values))\n",
        "print('수축기 혈압')\n",
        "print(max(X_train['HE_sbp'].values))\n",
        "print(min(X_train['HE_sbp'].values))\n",
        "print('확장기 혈압')\n",
        "print(max(X_train['HE_dbp'].values))\n",
        "print(min(X_train['HE_dbp'].values))\n",
        "print('체질량 지수')\n",
        "print(max(X_train['HE_BMI'].values))\n",
        "print(min(X_train['HE_BMI'].values))\n",
        "print('15초 맥박수')\n",
        "print(max(X_train['HE_PLS'].values))\n",
        "print(min(X_train['HE_PLS'].values))\n",
        "print('수면 시간')\n",
        "print(max(X_train['total_sleep'].values))\n",
        "print(min(X_train['total_sleep'].values))\n",
        "print('흡연 여부')\n",
        "print(max(X_train['sm_present'].values))\n",
        "print(min(X_train['sm_present'].values))\n",
        "print('유산소 운동 여부')\n",
        "print(max(X_train['pa_walk'].values))\n",
        "print(min(X_train['pa_walk'].values))"
      ],
      "metadata": {
        "id": "1aoS_Sen3UIL",
        "colab": {
          "base_uri": "https://localhost:8080/"
        },
        "outputId": "a3dd3714-08e9-439a-e1b4-6b590fd5137d"
      },
      "execution_count": 9,
      "outputs": [
        {
          "output_type": "stream",
          "name": "stdout",
          "text": [
            "나이\n",
            "80.0\n",
            "12.0\n",
            "수축기 혈압\n",
            "205.0\n",
            "78.0\n",
            "확장기 혈압\n",
            "130.0\n",
            "35.0\n",
            "체질량 지수\n",
            "44.480753799431355\n",
            "13.319458896982308\n",
            "15초 맥박수\n",
            "53.0\n",
            "15.0\n",
            "수면 시간\n",
            "15.0\n",
            "2.0\n",
            "흡연 여부\n",
            "1.0\n",
            "0.0\n",
            "유산소 운동 여부\n",
            "1.0\n",
            "0.0\n"
          ]
        }
      ]
    },
    {
      "cell_type": "code",
      "source": [
        "# 데이터 정규화하기 (0~1 사이의 값으로)\n",
        "def normalize_column(column):\n",
        "    return (column - column.min()) / (column.max() - column.min())\n",
        "\n",
        "norm_x_train = X_train.apply(normalize_column)\n",
        "norm_x_test = X_test.apply(normalize_column)"
      ],
      "metadata": {
        "id": "8OpFCFpq3V16"
      },
      "execution_count": 10,
      "outputs": []
    },
    {
      "cell_type": "code",
      "source": [
        "print(norm_x_test)"
      ],
      "metadata": {
        "id": "JtaG9flQ3XbK",
        "colab": {
          "base_uri": "https://localhost:8080/"
        },
        "outputId": "02ba7a2b-ad24-467e-ec1d-579df5d68a5d"
      },
      "execution_count": 11,
      "outputs": [
        {
          "output_type": "stream",
          "name": "stdout",
          "text": [
            "      sex       age    HE_sbp    HE_dbp    HE_BMI  HE_PLS  sm_present  \\\n",
            "6304  0.0  0.941176  0.566667  0.357143  0.270551     0.6         1.0   \n",
            "1689  1.0  1.000000  0.183333  0.000000  0.391836     0.1         1.0   \n",
            "5403  1.0  0.470588  0.458333  0.520408  0.520266     0.2         1.0   \n",
            "7330  1.0  1.000000  0.583333  0.244898  0.173775     0.3         1.0   \n",
            "5312  1.0  0.705882  0.125000  0.091837  0.306746     0.0         1.0   \n",
            "...   ...       ...       ...       ...       ...     ...         ...   \n",
            "6227  1.0  0.044118  0.333333  0.224490  0.357575     0.4         0.0   \n",
            "2537  1.0  0.088235  0.250000  0.295918  0.379116     0.6         0.0   \n",
            "6080  0.0  0.191176  0.258333  0.275510  0.387101     0.6         1.0   \n",
            "6674  0.0  0.455882  0.250000  0.306122  0.365862     0.5         1.0   \n",
            "847   0.0  0.985294  0.808333  0.602041  0.251972     0.3         1.0   \n",
            "\n",
            "      pa_walk  total_sleep  \n",
            "6304      0.0     0.619048  \n",
            "1689      0.0     0.238095  \n",
            "5403      1.0     0.714286  \n",
            "7330      1.0     0.428571  \n",
            "5312      0.0     0.714286  \n",
            "...       ...          ...  \n",
            "6227      0.0     0.841270  \n",
            "2537      0.0     0.380952  \n",
            "6080      0.0     0.603175  \n",
            "6674      1.0     0.666667  \n",
            "847       1.0     0.523810  \n",
            "\n",
            "[1186 rows x 9 columns]\n"
          ]
        }
      ]
    },
    {
      "cell_type": "code",
      "source": [
        "# mnist 숫자 인식의 모델 구조 참고해서 구성해보기\n",
        "import tensorflow as tf\n",
        "from tensorflow.keras.models import Sequential\n",
        "from tensorflow.keras.layers import Dense\n",
        "from tensorflow.keras.optimizers import Adam"
      ],
      "metadata": {
        "id": "HtvM-Xen3aAa"
      },
      "execution_count": 12,
      "outputs": []
    },
    {
      "cell_type": "code",
      "source": [
        "mlp = Sequential()\n",
        "mlp.add(Dense(units=512, activation='tanh', input_shape=(9,), name='one'))\n",
        "mlp.add(Dense(units=1, activation='sigmoid', name='two'))\n",
        "\n",
        "mlp.compile(loss='binary_crossentropy', optimizer=Adam(learning_rate=0.01), metrics=['accuracy'])\n",
        "history = mlp.fit(norm_x_train, y_train, batch_size=128, epochs=50, validation_data=(norm_x_test, y_test))\n",
        "\n",
        "res = mlp.evaluate(norm_x_test, y_test)\n",
        "print('정확률=', res[1]*100)\n",
        "# 지금은 정확률이 0.63 정도로 SVM보다 못한 성능을 보여준다.\n",
        "# loss 값이 왜 저렇게 음의 방향으로 커지는 지에 대해서도 조사가 필요해 보인다.\n",
        "# 모델 구조 개선이나 하이퍼파라미터 변경, 추가 데이터셋이 필요하다. (추후 할 예정)"
      ],
      "metadata": {
        "id": "tvDDelBm3bpb",
        "colab": {
          "base_uri": "https://localhost:8080/"
        },
        "outputId": "679564fd-c541-43c5-8dbe-0808d10aad7a"
      },
      "execution_count": 13,
      "outputs": [
        {
          "output_type": "stream",
          "name": "stdout",
          "text": [
            "Epoch 1/50\n",
            "38/38 [==============================] - 2s 21ms/step - loss: -14.4789 - accuracy: 0.3860 - val_loss: -48.9871 - val_accuracy: 0.3457\n",
            "Epoch 2/50\n",
            "38/38 [==============================] - 0s 9ms/step - loss: -89.6149 - accuracy: 0.4499 - val_loss: -135.7171 - val_accuracy: 0.3508\n",
            "Epoch 3/50\n",
            "38/38 [==============================] - 0s 12ms/step - loss: -187.6384 - accuracy: 0.4881 - val_loss: -247.1290 - val_accuracy: 0.4013\n",
            "Epoch 4/50\n",
            "38/38 [==============================] - 0s 12ms/step - loss: -308.4546 - accuracy: 0.5149 - val_loss: -368.2432 - val_accuracy: 0.3929\n",
            "Epoch 5/50\n",
            "38/38 [==============================] - 0s 8ms/step - loss: -444.2333 - accuracy: 0.5166 - val_loss: -505.1696 - val_accuracy: 0.4427\n",
            "Epoch 6/50\n",
            "38/38 [==============================] - 0s 8ms/step - loss: -572.2778 - accuracy: 0.5526 - val_loss: -633.0637 - val_accuracy: 0.4671\n",
            "Epoch 7/50\n",
            "38/38 [==============================] - 0s 4ms/step - loss: -696.7305 - accuracy: 0.5737 - val_loss: -736.8047 - val_accuracy: 0.4528\n",
            "Epoch 8/50\n",
            "38/38 [==============================] - 0s 6ms/step - loss: -816.6559 - accuracy: 0.5693 - val_loss: -875.0767 - val_accuracy: 0.5008\n",
            "Epoch 9/50\n",
            "38/38 [==============================] - 0s 6ms/step - loss: -934.3481 - accuracy: 0.5897 - val_loss: -988.0146 - val_accuracy: 0.5017\n",
            "Epoch 10/50\n",
            "38/38 [==============================] - 0s 6ms/step - loss: -1051.5762 - accuracy: 0.5971 - val_loss: -1088.8776 - val_accuracy: 0.4907\n",
            "Epoch 11/50\n",
            "38/38 [==============================] - 0s 6ms/step - loss: -1169.1345 - accuracy: 0.6038 - val_loss: -1214.9266 - val_accuracy: 0.5152\n",
            "Epoch 12/50\n",
            "38/38 [==============================] - 0s 6ms/step - loss: -1287.1396 - accuracy: 0.6106 - val_loss: -1321.2991 - val_accuracy: 0.5143\n",
            "Epoch 13/50\n",
            "38/38 [==============================] - 0s 6ms/step - loss: -1404.3176 - accuracy: 0.6169 - val_loss: -1445.6241 - val_accuracy: 0.5329\n",
            "Epoch 14/50\n",
            "38/38 [==============================] - 0s 7ms/step - loss: -1515.2555 - accuracy: 0.6268 - val_loss: -1546.1560 - val_accuracy: 0.5346\n",
            "Epoch 15/50\n",
            "38/38 [==============================] - 0s 6ms/step - loss: -1627.2008 - accuracy: 0.6285 - val_loss: -1662.0862 - val_accuracy: 0.5573\n",
            "Epoch 16/50\n",
            "38/38 [==============================] - 0s 7ms/step - loss: -1733.3827 - accuracy: 0.6348 - val_loss: -1768.9026 - val_accuracy: 0.5489\n",
            "Epoch 17/50\n",
            "38/38 [==============================] - 0s 6ms/step - loss: -1839.0892 - accuracy: 0.6361 - val_loss: -1873.6864 - val_accuracy: 0.5590\n",
            "Epoch 18/50\n",
            "38/38 [==============================] - 0s 6ms/step - loss: -1949.5366 - accuracy: 0.6424 - val_loss: -1975.1461 - val_accuracy: 0.5556\n",
            "Epoch 19/50\n",
            "38/38 [==============================] - 0s 7ms/step - loss: -2057.9553 - accuracy: 0.6378 - val_loss: -2091.0862 - val_accuracy: 0.5658\n",
            "Epoch 20/50\n",
            "38/38 [==============================] - 0s 7ms/step - loss: -2163.4651 - accuracy: 0.6443 - val_loss: -2195.5366 - val_accuracy: 0.5691\n",
            "Epoch 21/50\n",
            "38/38 [==============================] - 0s 7ms/step - loss: -2271.6313 - accuracy: 0.6458 - val_loss: -2305.1680 - val_accuracy: 0.5708\n",
            "Epoch 22/50\n",
            "38/38 [==============================] - 0s 7ms/step - loss: -2374.7461 - accuracy: 0.6456 - val_loss: -2414.4958 - val_accuracy: 0.5759\n",
            "Epoch 23/50\n",
            "38/38 [==============================] - 0s 4ms/step - loss: -2483.6575 - accuracy: 0.6475 - val_loss: -2512.0396 - val_accuracy: 0.5717\n",
            "Epoch 24/50\n",
            "38/38 [==============================] - 0s 4ms/step - loss: -2587.9312 - accuracy: 0.6479 - val_loss: -2619.5642 - val_accuracy: 0.5809\n",
            "Epoch 25/50\n",
            "38/38 [==============================] - 0s 4ms/step - loss: -2691.4150 - accuracy: 0.6517 - val_loss: -2714.3066 - val_accuracy: 0.5742\n",
            "Epoch 26/50\n",
            "38/38 [==============================] - 0s 4ms/step - loss: -2793.8323 - accuracy: 0.6492 - val_loss: -2820.4824 - val_accuracy: 0.5801\n",
            "Epoch 27/50\n",
            "38/38 [==============================] - 0s 3ms/step - loss: -2900.7422 - accuracy: 0.6523 - val_loss: -2924.3496 - val_accuracy: 0.5801\n",
            "Epoch 28/50\n",
            "38/38 [==============================] - 0s 4ms/step - loss: -3006.4485 - accuracy: 0.6525 - val_loss: -3042.7673 - val_accuracy: 0.5894\n",
            "Epoch 29/50\n",
            "38/38 [==============================] - 0s 4ms/step - loss: -3114.0615 - accuracy: 0.6551 - val_loss: -3147.4448 - val_accuracy: 0.5885\n",
            "Epoch 30/50\n",
            "38/38 [==============================] - 0s 4ms/step - loss: -3221.7087 - accuracy: 0.6555 - val_loss: -3248.0046 - val_accuracy: 0.5919\n",
            "Epoch 31/50\n",
            "38/38 [==============================] - 0s 4ms/step - loss: -3325.2844 - accuracy: 0.6549 - val_loss: -3364.5854 - val_accuracy: 0.5995\n",
            "Epoch 32/50\n",
            "38/38 [==============================] - 0s 4ms/step - loss: -3429.3557 - accuracy: 0.6597 - val_loss: -3458.2368 - val_accuracy: 0.5911\n",
            "Epoch 33/50\n",
            "38/38 [==============================] - 0s 4ms/step - loss: -3530.2153 - accuracy: 0.6597 - val_loss: -3565.1021 - val_accuracy: 0.6054\n",
            "Epoch 34/50\n",
            "38/38 [==============================] - 0s 4ms/step - loss: -3635.0432 - accuracy: 0.6608 - val_loss: -3667.2512 - val_accuracy: 0.6071\n",
            "Epoch 35/50\n",
            "38/38 [==============================] - 0s 3ms/step - loss: -3735.9709 - accuracy: 0.6610 - val_loss: -3767.0881 - val_accuracy: 0.6029\n",
            "Epoch 36/50\n",
            "38/38 [==============================] - 0s 4ms/step - loss: -3836.7886 - accuracy: 0.6603 - val_loss: -3872.2124 - val_accuracy: 0.6138\n",
            "Epoch 37/50\n",
            "38/38 [==============================] - 0s 4ms/step - loss: -3941.1697 - accuracy: 0.6618 - val_loss: -3976.6067 - val_accuracy: 0.6164\n",
            "Epoch 38/50\n",
            "38/38 [==============================] - 0s 4ms/step - loss: -4045.3625 - accuracy: 0.6620 - val_loss: -4082.2981 - val_accuracy: 0.6197\n",
            "Epoch 39/50\n",
            "38/38 [==============================] - 0s 4ms/step - loss: -4146.8643 - accuracy: 0.6639 - val_loss: -4182.4224 - val_accuracy: 0.6223\n",
            "Epoch 40/50\n",
            "38/38 [==============================] - 0s 3ms/step - loss: -4250.6211 - accuracy: 0.6650 - val_loss: -4285.9258 - val_accuracy: 0.6172\n",
            "Epoch 41/50\n",
            "38/38 [==============================] - 0s 3ms/step - loss: -4354.2227 - accuracy: 0.6639 - val_loss: -4394.1162 - val_accuracy: 0.6298\n",
            "Epoch 42/50\n",
            "38/38 [==============================] - 0s 3ms/step - loss: -4458.4888 - accuracy: 0.6673 - val_loss: -4496.7349 - val_accuracy: 0.6273\n",
            "Epoch 43/50\n",
            "38/38 [==============================] - 0s 4ms/step - loss: -4566.3330 - accuracy: 0.6658 - val_loss: -4604.7397 - val_accuracy: 0.6273\n",
            "Epoch 44/50\n",
            "38/38 [==============================] - 0s 5ms/step - loss: -4666.6099 - accuracy: 0.6662 - val_loss: -4706.9019 - val_accuracy: 0.6341\n",
            "Epoch 45/50\n",
            "38/38 [==============================] - 0s 3ms/step - loss: -4766.1865 - accuracy: 0.6679 - val_loss: -4807.5454 - val_accuracy: 0.6324\n",
            "Epoch 46/50\n",
            "38/38 [==============================] - 0s 4ms/step - loss: -4863.2031 - accuracy: 0.6669 - val_loss: -4907.7886 - val_accuracy: 0.6315\n",
            "Epoch 47/50\n",
            "38/38 [==============================] - 0s 3ms/step - loss: -4967.0957 - accuracy: 0.6677 - val_loss: -5006.5078 - val_accuracy: 0.6366\n",
            "Epoch 48/50\n",
            "38/38 [==============================] - 0s 3ms/step - loss: -5072.8228 - accuracy: 0.6679 - val_loss: -5116.4243 - val_accuracy: 0.6425\n",
            "Epoch 49/50\n",
            "38/38 [==============================] - 0s 4ms/step - loss: -5171.1270 - accuracy: 0.6700 - val_loss: -5220.0342 - val_accuracy: 0.6374\n",
            "Epoch 50/50\n",
            "38/38 [==============================] - 0s 4ms/step - loss: -5271.6953 - accuracy: 0.6688 - val_loss: -5312.7070 - val_accuracy: 0.6391\n",
            "38/38 [==============================] - 0s 2ms/step - loss: -5312.7080 - accuracy: 0.6391\n",
            "정확률= 63.91230821609497\n"
          ]
        }
      ]
    },
    {
      "cell_type": "code",
      "source": [
        "from keras import models\n",
        "\n",
        "# 모델 저장\n",
        "# mlp.save('/content/drive/MyDrive/my_model')\n",
        "\n",
        "# 고혈압 예측 확률(추정)\n",
        "a = mlp.predict(norm_x_test[:1])[0][0]\n",
        "print(a)\n",
        "print(type(a))"
      ],
      "metadata": {
        "id": "XP__wflv3diK",
        "colab": {
          "base_uri": "https://localhost:8080/"
        },
        "outputId": "1aaa26d6-319a-48ab-b667-fd3a6f7e63c3"
      },
      "execution_count": 14,
      "outputs": [
        {
          "output_type": "stream",
          "name": "stdout",
          "text": [
            "1/1 [==============================] - 0s 87ms/step\n",
            "0.11385199\n",
            "<class 'numpy.float32'>\n"
          ]
        }
      ]
    }
  ]
}