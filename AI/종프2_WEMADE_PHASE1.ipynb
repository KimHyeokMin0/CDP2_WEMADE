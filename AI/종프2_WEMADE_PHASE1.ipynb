{
  "nbformat": 4,
  "nbformat_minor": 0,
  "metadata": {
    "colab": {
      "provenance": []
    },
    "kernelspec": {
      "name": "python3",
      "display_name": "Python 3"
    },
    "language_info": {
      "name": "python"
    }
  },
  "cells": [
    {
      "cell_type": "code",
      "execution_count": null,
      "metadata": {
        "id": "86RIg3Tx3C-v"
      },
      "outputs": [],
      "source": [
        "# 시작하기 전에 mount하기\n",
        "from google.colab import drive\n",
        "drive.mount('/content/drive')"
      ]
    },
    {
      "cell_type": "code",
      "source": [
        "import pandas as pd\n",
        "import numpy as np\n",
        "\n",
        "data = pd.read_sas('/content/drive/MyDrive/hn18_all.sas7bdat', format = 'sas7bdat')\n",
        "# hn18_all.sas7bdat 파일의 경로 복사하기 (국민건강영양조사 데이터셋 사용)"
      ],
      "metadata": {
        "id": "qEMAysRs3JYp"
      },
      "execution_count": null,
      "outputs": []
    },
    {
      "cell_type": "code",
      "source": [
        "# 원시 데이터 가공하기\n",
        "\n",
        "selected_data = data[['DI1_dg', 'sex', 'age', 'HE_sbp', 'HE_dbp', 'HE_BMI', 'HE_PLS']]\n",
        "\n",
        "#흡연 여부\n",
        "selected_data['sm_present'] = ((data['BS1_1'].isin([1, 2]) & data['BS3_1'].isin([1, 2, 3])) | (data['BS1_1'] == 3)).astype(int)\n",
        "selected_data.loc[data['BS1_1'] == 2, 'sm_present'] = (data['BS3_1'].isin([1, 2])).astype(int)\n",
        "\n",
        "#pa_walk : 주5회 걷기 운동을 30분이상 실천한 여부\n",
        "data['pa_hb30_1'] = data['BE3_32'] * 60 + data['BE3_33']\n",
        "selected_data['pa_walk'] = (data['BE3_31'].isin([6, 7, 8]) & (data['pa_hb30_1'] >= 30)).astype(int)\n",
        "\n",
        "#수면시간\n",
        "data['sleep'] = np.where((data['BP16_11'].isin([88,99]) | data['BP16_12'].isin([88,99]) | data['BP16_13'].isin([88,99]) | data['BP16_14'].isin([88,99])),\n",
        "                         None, (data['BP16_13']+data['BP16_14']/60 - data['BP16_11']+data['BP16_12']/60 + 24)%24)\n",
        "selected_data['total_sleep'] = data['sleep']"
      ],
      "metadata": {
        "id": "3-IbYtU63K01"
      },
      "execution_count": null,
      "outputs": []
    },
    {
      "cell_type": "code",
      "source": [
        "# dropna 함수를 사용해 결측치가 포함된 행을 제거\n",
        "\n",
        "print(selected_data.shape)\n",
        "selected_data = selected_data.dropna()\n",
        "print(selected_data.shape)"
      ],
      "metadata": {
        "id": "HfE1hICz3MSE"
      },
      "execution_count": null,
      "outputs": []
    },
    {
      "cell_type": "code",
      "source": [
        "X = selected_data.drop('DI1_dg', axis=1).dropna()\n",
        "y = selected_data.loc[X.index, 'DI1_dg']\n",
        "\n",
        "X_train, X_test, y_train, y_test = train_test_split(X, y, test_size=0.2, random_state=42)\n",
        "\n",
        "X_train = X_train.astype('float')\n",
        "X_test = X_test.astype('float')\n",
        "y_train = y_train.astype('int')\n",
        "y_test = y_test.astype('int')"
      ],
      "metadata": {
        "id": "KVu4Ml193Nur"
      },
      "execution_count": null,
      "outputs": []
    },
    {
      "cell_type": "code",
      "source": [
        "print(X_train.dtypes)\n",
        "print('-')\n",
        "print('고혈압 여부: ' + str(y_train.dtypes))"
      ],
      "metadata": {
        "id": "t5B3x2d93SUy"
      },
      "execution_count": null,
      "outputs": []
    },
    {
      "cell_type": "code",
      "source": [
        "print('나이')\n",
        "print(max(X_train['age'].values))\n",
        "print(min(X_train['age'].values))\n",
        "print('수축기 혈압')\n",
        "print(max(X_train['HE_sbp'].values))\n",
        "print(min(X_train['HE_sbp'].values))\n",
        "print('확장기 혈압')\n",
        "print(max(X_train['HE_dbp'].values))\n",
        "print(min(X_train['HE_dbp'].values))\n",
        "print('체질량 지수')\n",
        "print(max(X_train['HE_BMI'].values))\n",
        "print(min(X_train['HE_BMI'].values))\n",
        "print('15초 맥박수')\n",
        "print(max(X_train['HE_PLS'].values))\n",
        "print(min(X_train['HE_PLS'].values))\n",
        "print('수면 시간')\n",
        "print(max(X_train['total_sleep'].values))\n",
        "print(min(X_train['total_sleep'].values))\n",
        "print('흡연 여부')\n",
        "print(max(X_train['sm_present'].values))\n",
        "print(min(X_train['sm_present'].values))\n",
        "print('유산소 운동 여부')\n",
        "print(max(X_train['pa_walk'].values))\n",
        "print(min(X_train['pa_walk'].values))"
      ],
      "metadata": {
        "id": "1aoS_Sen3UIL"
      },
      "execution_count": null,
      "outputs": []
    },
    {
      "cell_type": "code",
      "source": [
        "# 데이터 정규화하기 (0~1 사이의 값으로)\n",
        "def normalize_column(column):\n",
        "    return (column - column.min()) / (column.max() - column.min())\n",
        "\n",
        "norm_x_train = X_train.apply(normalize_column)\n",
        "norm_x_test = X_test.apply(normalize_column)"
      ],
      "metadata": {
        "id": "8OpFCFpq3V16"
      },
      "execution_count": null,
      "outputs": []
    },
    {
      "cell_type": "code",
      "source": [
        "print(norm_x_test)"
      ],
      "metadata": {
        "id": "JtaG9flQ3XbK"
      },
      "execution_count": null,
      "outputs": []
    },
    {
      "cell_type": "code",
      "source": [
        "# mnist 숫자 인식의 모델 구조 참고해서 구성해보기\n",
        "import tensorflow as tf\n",
        "from tensorflow.keras.models import Sequential\n",
        "from tensorflow.keras.layers import Dense\n",
        "from tensorflow.keras.optimizers import Adam"
      ],
      "metadata": {
        "id": "HtvM-Xen3aAa"
      },
      "execution_count": null,
      "outputs": []
    },
    {
      "cell_type": "code",
      "source": [
        "mlp = Sequential()\n",
        "mlp.add(Dense(units=512, activation='tanh', input_shape=(9,), name='one'))\n",
        "mlp.add(Dense(units=1, activation='sigmoid', name='two'))\n",
        "\n",
        "mlp.compile(loss='binary_crossentropy', optimizer=Adam(learning_rate=0.01), metrics=['accuracy'])\n",
        "history = mlp.fit(norm_x_train, y_train, batch_size=128, epochs=50, validation_data=(norm_x_test, y_test))\n",
        "\n",
        "res = mlp.evaluate(norm_x_test, y_test)\n",
        "print('정확률=', res[1]*100)\n",
        "# 지금은 정확률이 0.63 정도로 SVM보다 못한 성능을 보여준다.\n",
        "# loss 값이 왜 저렇게 음의 방향으로 커지는 지에 대해서도 조사가 필요해 보인다.\n",
        "# 모델 구조 개선이나 하이퍼파라미터 변경, 추가 데이터셋이 필요하다. (추후 할 예정)"
      ],
      "metadata": {
        "id": "tvDDelBm3bpb"
      },
      "execution_count": null,
      "outputs": []
    },
    {
      "cell_type": "code",
      "source": [
        "from keras import models\n",
        "\n",
        "# 모델 저장\n",
        "# mlp.save('/content/drive/MyDrive/my_model')\n",
        "\n",
        "# 고혈압 예측 확률(추정)\n",
        "a = mlp.predict(norm_x_test[:1])[0][0]\n",
        "print(a)\n",
        "print(type(a))"
      ],
      "metadata": {
        "id": "XP__wflv3diK"
      },
      "execution_count": null,
      "outputs": []
    }
  ]
}