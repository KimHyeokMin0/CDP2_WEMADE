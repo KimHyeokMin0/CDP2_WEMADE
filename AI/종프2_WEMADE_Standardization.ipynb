{
  "cells": [
    {
      "cell_type": "markdown",
      "source": [
        "z-score 표준화"
      ],
      "metadata": {
        "id": "mvyrlzi6HB7J"
      }
    },
    {
      "cell_type": "code",
      "source": [
        "from sklearn.model_selection import train_test_split\n",
        "# StandardScaler\n",
        "\n",
        "selected_all = pd.concat([selected05, selected07, selected08, selected09, selected10, selected11, selected12, selected13, selected14,\n",
        "                          selected15, selected16, selected17, selected18, selected19, selected20, selected21, selected22], axis=0, ignore_index=True)\n",
        "idx = selected_all[selected_all['DI1_dg'] == 9].index\n",
        "selected_all = selected_all.drop(idx)\n",
        "selected_all = selected_all.reset_index(drop=True)\n",
        "\n",
        "def mean_norm(df_input):\n",
        "    return df_input.apply(lambda x: (x - x.mean()) / x.std(), axis=0)\n",
        "\n",
        "df_temp = mean_norm(selected_all)\n",
        "selected_all['sex'] = selected_all['sex'] - 1\n",
        "selected_all['age'] = df_temp['age']\n",
        "selected_all['HE_sbp'] = df_temp['HE_sbp']\n",
        "selected_all['HE_dbp'] = df_temp['HE_dbp']\n",
        "selected_all['HE_BMI'] = df_temp['HE_BMI']\n",
        "selected_all['total_sleep'] = df_temp['total_sleep']\n",
        "\n",
        "x_train, x_test, y_train, y_test = train_test_split(selected_all[['sex', 'age', 'HE_sbp', 'HE_dbp', 'HE_BMI', 'sm_present', 'pa_walk', 'total_sleep']],\n",
        "                                                    selected_all['DI1_dg'], test_size = 0.2, random_state = 42, stratify = selected_all['DI1_dg'])\n",
        "# x_train, x_test, y_train, y_test = train_test_split(selected_all[['sex', 'age', 'HE_sbp', 'HE_dbp', 'HE_PLS', 'HE_BMI', 'sm_present', 'pa_walk', 'total_sleep']],\n",
        "#                                                     selected_all['DI1_dg'], test_size = 0.2, random_state = 42, stratify = selected_all['DI1_dg'])\n",
        "\n",
        "x_train = x_train.astype('float')\n",
        "x_test = x_test.astype('float')\n",
        "y_train = y_train.astype('int')\n",
        "y_test = y_test.astype('int')\n",
        "# 0.7879"
      ],
      "metadata": {
        "id": "44Ph4aGVnJly"
      },
      "execution_count": null,
      "outputs": []
    },
    {
      "cell_type": "markdown",
      "source": [
        "robust 기법"
      ],
      "metadata": {
        "id": "QSqIe73GHEVi"
      }
    },
    {
      "cell_type": "code",
      "source": [
        "from sklearn.model_selection import train_test_split\n",
        "# RobustScaler\n",
        "\n",
        "selected_all = pd.concat([selected05, selected07, selected08, selected09, selected10, selected11, selected12, selected13, selected14,\n",
        "                          selected15, selected16, selected17, selected18, selected19, selected20, selected21, selected22], axis=0, ignore_index=True)\n",
        "idx = selected_all[selected_all['DI1_dg'] == 9].index\n",
        "selected_all = selected_all.drop(idx)\n",
        "selected_all = selected_all.reset_index(drop=True)\n",
        "\n",
        "def robust_norm(df_input):\n",
        "    return df_input.apply(lambda x: (x - x.quantile(0.5)) / (x.quantile(0.75) - x.quantile(0.25)), axis=0)\n",
        "\n",
        "x_train_temp = robust_norm(selected_all)\n",
        "selected_all['sex'] = selected_all['sex'] - 1\n",
        "selected_all['age'] = x_train_temp['age']\n",
        "selected_all['HE_sbp'] = x_train_temp['HE_sbp']\n",
        "selected_all['HE_dbp'] = x_train_temp['HE_dbp']\n",
        "selected_all['HE_PLS'] = x_train_temp['HE_PLS']\n",
        "selected_all['HE_BMI'] = x_train_temp['HE_BMI']\n",
        "selected_all['total_sleep'] = x_train_temp['total_sleep']\n",
        "\n",
        "x_train, x_test, y_train, y_test = train_test_split(selected_all[['sex', 'age', 'HE_sbp', 'HE_dbp', 'HE_BMI', 'sm_present', 'pa_walk', 'total_sleep']],\n",
        "                                                    selected_all['DI1_dg'], test_size = 0.2, random_state = 42, stratify = selected_all['DI1_dg'])\n",
        "# x_train, x_test, y_train, y_test = train_test_split(selected_all[['sex', 'age', 'HE_sbp', 'HE_dbp', 'HE_PLS', 'HE_BMI', 'sm_present', 'pa_walk', 'total_sleep']],\n",
        "#                                                     selected_all['DI1_dg'], test_size = 0.2, random_state = 42, stratify = selected_all['DI1_dg'])\n",
        "\n",
        "x_train = x_train.astype('float')\n",
        "x_test = x_test.astype('float')\n",
        "y_train = y_train.astype('int')\n",
        "y_test = y_test.astype('int')\n",
        "\n",
        "# 0.7863"
      ],
      "metadata": {
        "id": "KkvboGHWDdYi"
      },
      "execution_count": null,
      "outputs": []
    },
    {
      "cell_type": "code",
      "source": [
        "print(x_train)\n",
        "print('-')\n",
        "print(x_test)"
      ],
      "metadata": {
        "colab": {
          "base_uri": "https://localhost:8080/"
        },
        "id": "MeT_4wX3oD_8",
        "outputId": "9aafc4e6-9606-45d2-b20d-325461db2a4f"
      },
      "execution_count": null,
      "outputs": [
        {
          "output_type": "stream",
          "name": "stdout",
          "text": [
            "       sex       age    HE_sbp    HE_dbp    HE_PLS    HE_BMI  sm_present  \\\n",
            "46259  0.0 -1.111111  0.304348  0.230769  0.333333  1.402574         1.0   \n",
            "22422  0.0 -1.111111 -0.739130 -0.076923  0.666667 -1.309568         1.0   \n",
            "8255   0.0 -1.000000  0.130435 -0.769231  0.000000 -0.066998         0.0   \n",
            "55635  0.0  0.555556  0.391304  0.307692 -0.333333 -0.641496         0.0   \n",
            "40132  1.0 -0.962963 -0.739130 -0.769231  0.333333 -0.367792         0.0   \n",
            "...    ...       ...       ...       ...       ...       ...         ...   \n",
            "25985  1.0 -1.185185 -0.565217 -0.384615  2.000000 -0.890387         1.0   \n",
            "22906  1.0 -0.555556 -0.608696 -0.230769  0.333333 -1.019056         1.0   \n",
            "5073   1.0  0.777778  1.000000  1.307692  1.333333  0.171087         1.0   \n",
            "5468   1.0  0.703704  0.608696 -0.153846  0.000000 -0.169557         1.0   \n",
            "23768  0.0  0.333333  0.826087  1.153846 -0.333333  0.858650         1.0   \n",
            "\n",
            "       pa_walk  total_sleep  \n",
            "46259      0.0        -1.00  \n",
            "22422      1.0         0.00  \n",
            "8255       1.0        -0.50  \n",
            "55635      0.0        -0.50  \n",
            "40132      0.0         1.00  \n",
            "...        ...          ...  \n",
            "25985      1.0         0.00  \n",
            "22906      0.0         0.00  \n",
            "5073       0.0        -1.00  \n",
            "5468       1.0         0.50  \n",
            "23768      0.0        -0.25  \n",
            "\n",
            "[46338 rows x 9 columns]\n",
            "-\n",
            "       sex       age    HE_sbp    HE_dbp    HE_PLS    HE_BMI  sm_present  \\\n",
            "25306  0.0  0.333333 -0.260870  0.615385  0.000000  0.384132         1.0   \n",
            "43997  0.0 -0.555556  0.130435  1.076923 -0.333333 -0.105791         1.0   \n",
            "6956   1.0  0.111111  1.304348  0.461538  0.000000 -0.511220         1.0   \n",
            "3568   1.0  0.259259  1.347826  1.846154  1.666667  0.664577         1.0   \n",
            "21753  1.0  0.037037  0.260870  0.076923 -0.333333  0.577824         1.0   \n",
            "...    ...       ...       ...       ...       ...       ...         ...   \n",
            "34487  0.0  0.629630  0.217391  0.307692  0.666667 -1.371759         1.0   \n",
            "10973  1.0 -0.629630 -1.217391 -0.461538  0.000000 -0.448995         1.0   \n",
            "15318  1.0  0.740741  0.652174 -1.000000  0.333333 -0.157541         1.0   \n",
            "54778  1.0  0.592593 -0.413043 -0.615385  0.333333 -0.386000         1.0   \n",
            "49255  1.0 -1.222222 -0.934783 -0.730769  0.000000 -0.452756         1.0   \n",
            "\n",
            "       pa_walk  total_sleep  \n",
            "25306      0.0         -0.5  \n",
            "43997      0.0         -0.5  \n",
            "6956       0.0          0.0  \n",
            "3568       1.0          0.0  \n",
            "21753      0.0          0.0  \n",
            "...        ...          ...  \n",
            "34487      1.0         -0.5  \n",
            "10973      0.0         -1.5  \n",
            "15318      1.0          0.0  \n",
            "54778      0.0         -0.5  \n",
            "49255      1.0          0.5  \n",
            "\n",
            "[11585 rows x 9 columns]\n"
          ]
        }
      ]
    },
    {
      "cell_type": "markdown",
      "source": [
        "미세하게 성능 향상"
      ],
      "metadata": {
        "id": "NrgeAMshHmtd"
      }
    },
    {
      "cell_type": "code",
      "source": [
        "# Data Collection\n",
        "selected05['sm_present'] = ((data05['BS1_1'].isin([1, 2])) & (data05['BS3_1'].isin([1, 2]))).astype(int)\n",
        "\n",
        "# 흡연 여부에 관한 코드만 수정됨."
      ],
      "metadata": {
        "colab": {
          "base_uri": "https://localhost:8080/"
        },
        "outputId": "dee851e9-b996-4d16-f412-2020fb6b34a7",
        "collapsed": true,
        "id": "E0J0rqfWXfMN"
      },
      "execution_count": null,
      "outputs": [
        {
          "output_type": "stream",
          "name": "stderr",
          "text": [
            "<ipython-input-4-af51349857b2>:9: SettingWithCopyWarning: \n",
            "A value is trying to be set on a copy of a slice from a DataFrame\n",
            "\n",
            "See the caveats in the documentation: https://pandas.pydata.org/pandas-docs/stable/user_guide/indexing.html#returning-a-view-versus-a-copy\n",
            "  selected05.rename(columns={'HE_SBP': 'HE_sbp'}, inplace=True)\n",
            "<ipython-input-4-af51349857b2>:10: SettingWithCopyWarning: \n",
            "A value is trying to be set on a copy of a slice from a DataFrame\n",
            "\n",
            "See the caveats in the documentation: https://pandas.pydata.org/pandas-docs/stable/user_guide/indexing.html#returning-a-view-versus-a-copy\n",
            "  selected05.rename(columns={'HE_DBP': 'HE_dbp'}, inplace=True)\n",
            "<ipython-input-4-af51349857b2>:13: SettingWithCopyWarning: \n",
            "A value is trying to be set on a copy of a slice from a DataFrame.\n",
            "Try using .loc[row_indexer,col_indexer] = value instead\n",
            "\n",
            "See the caveats in the documentation: https://pandas.pydata.org/pandas-docs/stable/user_guide/indexing.html#returning-a-view-versus-a-copy\n",
            "  selected05['HE_BMI'] = data05['HE_WT'] / ((data05['HE_HT'] / 100) ** 2)\n",
            "<ipython-input-4-af51349857b2>:16: SettingWithCopyWarning: \n",
            "A value is trying to be set on a copy of a slice from a DataFrame.\n",
            "Try using .loc[row_indexer,col_indexer] = value instead\n",
            "\n",
            "See the caveats in the documentation: https://pandas.pydata.org/pandas-docs/stable/user_guide/indexing.html#returning-a-view-versus-a-copy\n",
            "  selected05['sm_present'] = ((data05['BS1_1'].isin([1, 2])) & (data05['BS3_1'].isin([1, 2]))).astype(int)\n",
            "<ipython-input-4-af51349857b2>:19: SettingWithCopyWarning: \n",
            "A value is trying to be set on a copy of a slice from a DataFrame.\n",
            "Try using .loc[row_indexer,col_indexer] = value instead\n",
            "\n",
            "See the caveats in the documentation: https://pandas.pydata.org/pandas-docs/stable/user_guide/indexing.html#returning-a-view-versus-a-copy\n",
            "  selected05['pa_walk'] = (data05['BE3_31'].isin([4, 5, 6, 7, 8]) & data05['BE3_32'].isin([3, 4, 5, 6])).astype(int)\n",
            "<ipython-input-4-af51349857b2>:22: SettingWithCopyWarning: \n",
            "A value is trying to be set on a copy of a slice from a DataFrame.\n",
            "Try using .loc[row_indexer,col_indexer] = value instead\n",
            "\n",
            "See the caveats in the documentation: https://pandas.pydata.org/pandas-docs/stable/user_guide/indexing.html#returning-a-view-versus-a-copy\n",
            "  selected05['total_sleep'] = np.where(data05['BR1'].isin([99]), None, data05['BR1'])\n"
          ]
        },
        {
          "output_type": "stream",
          "name": "stdout",
          "text": [
            "(34145, 10)\n",
            "(854, 10)\n"
          ]
        },
        {
          "output_type": "stream",
          "name": "stderr",
          "text": [
            "<ipython-input-4-af51349857b2>:38: SettingWithCopyWarning: \n",
            "A value is trying to be set on a copy of a slice from a DataFrame.\n",
            "Try using .loc[row_indexer,col_indexer] = value instead\n",
            "\n",
            "See the caveats in the documentation: https://pandas.pydata.org/pandas-docs/stable/user_guide/indexing.html#returning-a-view-versus-a-copy\n",
            "  selected07['sm_present'] = ((data07['BS1_1'].isin([1, 2])) & (data07['BS3_1'].isin([1, 2]))).astype(int)\n",
            "<ipython-input-4-af51349857b2>:41: PerformanceWarning: DataFrame is highly fragmented.  This is usually the result of calling `frame.insert` many times, which has poor performance.  Consider joining all columns at once using pd.concat(axis=1) instead. To get a de-fragmented frame, use `newframe = frame.copy()`\n",
            "  data07['pa_hb30_1'] = np.where((data07['BE3_32'].isin([88,99]) | data07['BE3_33'].isin([88,99])), 0, data07['BE3_32'] * 60 + data07['BE3_33'])\n",
            "<ipython-input-4-af51349857b2>:42: SettingWithCopyWarning: \n",
            "A value is trying to be set on a copy of a slice from a DataFrame.\n",
            "Try using .loc[row_indexer,col_indexer] = value instead\n",
            "\n",
            "See the caveats in the documentation: https://pandas.pydata.org/pandas-docs/stable/user_guide/indexing.html#returning-a-view-versus-a-copy\n",
            "  selected07['pa_walk'] = (data07['BE3_31'].isin([4, 5, 6, 7, 8]) & (data07['pa_hb30_1'] >= 30)).astype(int)\n",
            "<ipython-input-4-af51349857b2>:45: SettingWithCopyWarning: \n",
            "A value is trying to be set on a copy of a slice from a DataFrame.\n",
            "Try using .loc[row_indexer,col_indexer] = value instead\n",
            "\n",
            "See the caveats in the documentation: https://pandas.pydata.org/pandas-docs/stable/user_guide/indexing.html#returning-a-view-versus-a-copy\n",
            "  selected07['total_sleep'] = np.where(data07['BP8'].isin([99]), None, data07['BP8'])\n"
          ]
        },
        {
          "output_type": "stream",
          "name": "stdout",
          "text": [
            "(4594, 10)\n",
            "(490, 10)\n",
            "--------------------\n"
          ]
        },
        {
          "output_type": "stream",
          "name": "stderr",
          "text": [
            "<ipython-input-4-af51349857b2>:60: SettingWithCopyWarning: \n",
            "A value is trying to be set on a copy of a slice from a DataFrame.\n",
            "Try using .loc[row_indexer,col_indexer] = value instead\n",
            "\n",
            "See the caveats in the documentation: https://pandas.pydata.org/pandas-docs/stable/user_guide/indexing.html#returning-a-view-versus-a-copy\n",
            "  selected08['sm_present'] = ((data08['BS1_1'].isin([1, 2])) & (data08['BS3_1'].isin([1, 2]))).astype(int)\n",
            "<ipython-input-4-af51349857b2>:63: PerformanceWarning: DataFrame is highly fragmented.  This is usually the result of calling `frame.insert` many times, which has poor performance.  Consider joining all columns at once using pd.concat(axis=1) instead. To get a de-fragmented frame, use `newframe = frame.copy()`\n",
            "  data08['pa_hb30_1'] = np.where((data08['BE3_32'].isin([88,99]) | data08['BE3_33'].isin([88,99])), 0, data08['BE3_32'] * 60 + data08['BE3_33'])\n",
            "<ipython-input-4-af51349857b2>:64: SettingWithCopyWarning: \n",
            "A value is trying to be set on a copy of a slice from a DataFrame.\n",
            "Try using .loc[row_indexer,col_indexer] = value instead\n",
            "\n",
            "See the caveats in the documentation: https://pandas.pydata.org/pandas-docs/stable/user_guide/indexing.html#returning-a-view-versus-a-copy\n",
            "  selected08['pa_walk'] = (data08['BE3_31'].isin([4, 5, 6, 7, 8]) & (data08['pa_hb30_1'] >= 30)).astype(int)\n",
            "<ipython-input-4-af51349857b2>:67: SettingWithCopyWarning: \n",
            "A value is trying to be set on a copy of a slice from a DataFrame.\n",
            "Try using .loc[row_indexer,col_indexer] = value instead\n",
            "\n",
            "See the caveats in the documentation: https://pandas.pydata.org/pandas-docs/stable/user_guide/indexing.html#returning-a-view-versus-a-copy\n",
            "  selected08['total_sleep'] = np.where(data08['BP8'].isin([99]), None, data08['BP8'])\n"
          ]
        },
        {
          "output_type": "stream",
          "name": "stdout",
          "text": [
            "(9744, 10)\n",
            "(1308, 10)\n",
            "--------------------\n"
          ]
        },
        {
          "output_type": "stream",
          "name": "stderr",
          "text": [
            "<ipython-input-4-af51349857b2>:82: SettingWithCopyWarning: \n",
            "A value is trying to be set on a copy of a slice from a DataFrame.\n",
            "Try using .loc[row_indexer,col_indexer] = value instead\n",
            "\n",
            "See the caveats in the documentation: https://pandas.pydata.org/pandas-docs/stable/user_guide/indexing.html#returning-a-view-versus-a-copy\n",
            "  selected09['sm_present'] = ((data09['BS1_1'].isin([1, 2])) & (data09['BS3_1'].isin([1, 2]))).astype(int)\n",
            "<ipython-input-4-af51349857b2>:85: PerformanceWarning: DataFrame is highly fragmented.  This is usually the result of calling `frame.insert` many times, which has poor performance.  Consider joining all columns at once using pd.concat(axis=1) instead. To get a de-fragmented frame, use `newframe = frame.copy()`\n",
            "  data09['pa_hb30_1'] = np.where((data09['BE3_32'].isin([88,99]) | data09['BE3_33'].isin([88,99])), 0, data09['BE3_32'] * 60 + data09['BE3_33'])\n",
            "<ipython-input-4-af51349857b2>:86: SettingWithCopyWarning: \n",
            "A value is trying to be set on a copy of a slice from a DataFrame.\n",
            "Try using .loc[row_indexer,col_indexer] = value instead\n",
            "\n",
            "See the caveats in the documentation: https://pandas.pydata.org/pandas-docs/stable/user_guide/indexing.html#returning-a-view-versus-a-copy\n",
            "  selected09['pa_walk'] = (data09['BE3_31'].isin([4, 5, 6, 7, 8]) & (data09['pa_hb30_1'] >= 30)).astype(int)\n",
            "<ipython-input-4-af51349857b2>:89: SettingWithCopyWarning: \n",
            "A value is trying to be set on a copy of a slice from a DataFrame.\n",
            "Try using .loc[row_indexer,col_indexer] = value instead\n",
            "\n",
            "See the caveats in the documentation: https://pandas.pydata.org/pandas-docs/stable/user_guide/indexing.html#returning-a-view-versus-a-copy\n",
            "  selected09['total_sleep'] = np.where(data09['BP8'].isin([99]), None, data09['BP8'])\n"
          ]
        },
        {
          "output_type": "stream",
          "name": "stdout",
          "text": [
            "(10533, 10)\n",
            "(1447, 10)\n"
          ]
        },
        {
          "output_type": "stream",
          "name": "stderr",
          "text": [
            "<ipython-input-4-af51349857b2>:104: SettingWithCopyWarning: \n",
            "A value is trying to be set on a copy of a slice from a DataFrame.\n",
            "Try using .loc[row_indexer,col_indexer] = value instead\n",
            "\n",
            "See the caveats in the documentation: https://pandas.pydata.org/pandas-docs/stable/user_guide/indexing.html#returning-a-view-versus-a-copy\n",
            "  selected10['sm_present'] = ((data10['BS1_1'].isin([1, 2])) & (data10['BS3_1'].isin([1, 2]))).astype(int)\n",
            "<ipython-input-4-af51349857b2>:107: PerformanceWarning: DataFrame is highly fragmented.  This is usually the result of calling `frame.insert` many times, which has poor performance.  Consider joining all columns at once using pd.concat(axis=1) instead. To get a de-fragmented frame, use `newframe = frame.copy()`\n",
            "  data10['pa_hb30_1'] = np.where((data10['BE3_32'].isin([88,99]) | data10['BE3_33'].isin([88,99])), 0, data10['BE3_32'] * 60 + data10['BE3_33'])\n",
            "<ipython-input-4-af51349857b2>:108: SettingWithCopyWarning: \n",
            "A value is trying to be set on a copy of a slice from a DataFrame.\n",
            "Try using .loc[row_indexer,col_indexer] = value instead\n",
            "\n",
            "See the caveats in the documentation: https://pandas.pydata.org/pandas-docs/stable/user_guide/indexing.html#returning-a-view-versus-a-copy\n",
            "  selected10['pa_walk'] = (data10['BE3_31'].isin([4, 5, 6, 7, 8]) & (data10['pa_hb30_1'] >= 30)).astype(int)\n",
            "<ipython-input-4-af51349857b2>:111: SettingWithCopyWarning: \n",
            "A value is trying to be set on a copy of a slice from a DataFrame.\n",
            "Try using .loc[row_indexer,col_indexer] = value instead\n",
            "\n",
            "See the caveats in the documentation: https://pandas.pydata.org/pandas-docs/stable/user_guide/indexing.html#returning-a-view-versus-a-copy\n",
            "  selected10['total_sleep'] = np.where(data10['BP8'].isin([88, 99]), None, data10['BP8'])\n"
          ]
        },
        {
          "output_type": "stream",
          "name": "stdout",
          "text": [
            "(8958, 10)\n",
            "(1258, 10)\n",
            "--------------------\n"
          ]
        },
        {
          "output_type": "stream",
          "name": "stderr",
          "text": [
            "<ipython-input-4-af51349857b2>:126: SettingWithCopyWarning: \n",
            "A value is trying to be set on a copy of a slice from a DataFrame.\n",
            "Try using .loc[row_indexer,col_indexer] = value instead\n",
            "\n",
            "See the caveats in the documentation: https://pandas.pydata.org/pandas-docs/stable/user_guide/indexing.html#returning-a-view-versus-a-copy\n",
            "  selected11['sm_present'] = ((data11['BS1_1'].isin([1, 2])) & (data11['BS3_1'].isin([1, 2]))).astype(int)\n",
            "<ipython-input-4-af51349857b2>:129: PerformanceWarning: DataFrame is highly fragmented.  This is usually the result of calling `frame.insert` many times, which has poor performance.  Consider joining all columns at once using pd.concat(axis=1) instead. To get a de-fragmented frame, use `newframe = frame.copy()`\n",
            "  data11['pa_hb30_1'] = np.where((data11['BE3_32'].isin([88,99]) | data11['BE3_33'].isin([88,99])), 0, data11['BE3_32'] * 60 + data11['BE3_33'])\n",
            "<ipython-input-4-af51349857b2>:130: SettingWithCopyWarning: \n",
            "A value is trying to be set on a copy of a slice from a DataFrame.\n",
            "Try using .loc[row_indexer,col_indexer] = value instead\n",
            "\n",
            "See the caveats in the documentation: https://pandas.pydata.org/pandas-docs/stable/user_guide/indexing.html#returning-a-view-versus-a-copy\n",
            "  selected11['pa_walk'] = (data11['BE3_31'].isin([4, 5, 6, 7, 8]) & (data11['pa_hb30_1'] >= 30)).astype(int)\n",
            "<ipython-input-4-af51349857b2>:133: SettingWithCopyWarning: \n",
            "A value is trying to be set on a copy of a slice from a DataFrame.\n",
            "Try using .loc[row_indexer,col_indexer] = value instead\n",
            "\n",
            "See the caveats in the documentation: https://pandas.pydata.org/pandas-docs/stable/user_guide/indexing.html#returning-a-view-versus-a-copy\n",
            "  selected11['total_sleep'] = np.where(data11['BP8'].isin([88, 99]), None, data11['BP8'])\n"
          ]
        },
        {
          "output_type": "stream",
          "name": "stdout",
          "text": [
            "(8518, 10)\n",
            "(1255, 10)\n",
            "--------------------\n"
          ]
        },
        {
          "output_type": "stream",
          "name": "stderr",
          "text": [
            "<ipython-input-4-af51349857b2>:148: SettingWithCopyWarning: \n",
            "A value is trying to be set on a copy of a slice from a DataFrame.\n",
            "Try using .loc[row_indexer,col_indexer] = value instead\n",
            "\n",
            "See the caveats in the documentation: https://pandas.pydata.org/pandas-docs/stable/user_guide/indexing.html#returning-a-view-versus-a-copy\n",
            "  selected12['sm_present'] = ((data12['BS1_1'].isin([1, 2])) & (data12['BS3_1'].isin([1, 2]))).astype(int)\n",
            "<ipython-input-4-af51349857b2>:151: PerformanceWarning: DataFrame is highly fragmented.  This is usually the result of calling `frame.insert` many times, which has poor performance.  Consider joining all columns at once using pd.concat(axis=1) instead. To get a de-fragmented frame, use `newframe = frame.copy()`\n",
            "  data12['pa_hb30_1'] = np.where((data12['BE3_32'].isin([88,99]) | data12['BE3_33'].isin([88,99])), 0, data12['BE3_32'] * 60 + data12['BE3_33'])\n",
            "<ipython-input-4-af51349857b2>:152: SettingWithCopyWarning: \n",
            "A value is trying to be set on a copy of a slice from a DataFrame.\n",
            "Try using .loc[row_indexer,col_indexer] = value instead\n",
            "\n",
            "See the caveats in the documentation: https://pandas.pydata.org/pandas-docs/stable/user_guide/indexing.html#returning-a-view-versus-a-copy\n",
            "  selected12['pa_walk'] = (data12['BE3_31'].isin([4, 5, 6, 7, 8]) & (data12['pa_hb30_1'] >= 30)).astype(int)\n",
            "<ipython-input-4-af51349857b2>:155: SettingWithCopyWarning: \n",
            "A value is trying to be set on a copy of a slice from a DataFrame.\n",
            "Try using .loc[row_indexer,col_indexer] = value instead\n",
            "\n",
            "See the caveats in the documentation: https://pandas.pydata.org/pandas-docs/stable/user_guide/indexing.html#returning-a-view-versus-a-copy\n",
            "  selected12['total_sleep'] = np.where(data12['BP8'].isin([88, 99]), None, data12['BP8'])\n"
          ]
        },
        {
          "output_type": "stream",
          "name": "stdout",
          "text": [
            "(8058, 10)\n",
            "(1162, 10)\n"
          ]
        },
        {
          "output_type": "stream",
          "name": "stderr",
          "text": [
            "<ipython-input-4-af51349857b2>:171: SettingWithCopyWarning: \n",
            "A value is trying to be set on a copy of a slice from a DataFrame.\n",
            "Try using .loc[row_indexer,col_indexer] = value instead\n",
            "\n",
            "See the caveats in the documentation: https://pandas.pydata.org/pandas-docs/stable/user_guide/indexing.html#returning-a-view-versus-a-copy\n",
            "  selected13['sm_present'] = ((data13['BS1_1'].isin([1, 2])) & (data13['BS3_1'].isin([1, 2]))).astype(int)\n",
            "<ipython-input-4-af51349857b2>:174: PerformanceWarning: DataFrame is highly fragmented.  This is usually the result of calling `frame.insert` many times, which has poor performance.  Consider joining all columns at once using pd.concat(axis=1) instead. To get a de-fragmented frame, use `newframe = frame.copy()`\n",
            "  data13['pa_hb30_1'] = np.where((data13['BE3_32'].isin([88,99]) | data13['BE3_33'].isin([88,99])), 0, data13['BE3_32'] * 60 + data13['BE3_33'])\n",
            "<ipython-input-4-af51349857b2>:175: SettingWithCopyWarning: \n",
            "A value is trying to be set on a copy of a slice from a DataFrame.\n",
            "Try using .loc[row_indexer,col_indexer] = value instead\n",
            "\n",
            "See the caveats in the documentation: https://pandas.pydata.org/pandas-docs/stable/user_guide/indexing.html#returning-a-view-versus-a-copy\n",
            "  selected13['pa_walk'] = (data13['BE3_31'].isin([4, 5, 6, 7, 8]) & (data13['pa_hb30_1'] >= 30)).astype(int)\n",
            "<ipython-input-4-af51349857b2>:178: SettingWithCopyWarning: \n",
            "A value is trying to be set on a copy of a slice from a DataFrame.\n",
            "Try using .loc[row_indexer,col_indexer] = value instead\n",
            "\n",
            "See the caveats in the documentation: https://pandas.pydata.org/pandas-docs/stable/user_guide/indexing.html#returning-a-view-versus-a-copy\n",
            "  selected13['total_sleep'] = np.where(data13['BP8'].isin([88, 99]), None, data13['BP8'])\n"
          ]
        },
        {
          "output_type": "stream",
          "name": "stdout",
          "text": [
            "(8018, 10)\n",
            "(4841, 10)\n",
            "--------------------\n"
          ]
        },
        {
          "output_type": "stream",
          "name": "stderr",
          "text": [
            "<ipython-input-4-af51349857b2>:193: SettingWithCopyWarning: \n",
            "A value is trying to be set on a copy of a slice from a DataFrame.\n",
            "Try using .loc[row_indexer,col_indexer] = value instead\n",
            "\n",
            "See the caveats in the documentation: https://pandas.pydata.org/pandas-docs/stable/user_guide/indexing.html#returning-a-view-versus-a-copy\n",
            "  selected14['sm_present'] = ((data14['BS1_1'].isin([1, 2])) & (data14['BS3_1'].isin([1, 2]))).astype(int)\n",
            "<ipython-input-4-af51349857b2>:196: PerformanceWarning: DataFrame is highly fragmented.  This is usually the result of calling `frame.insert` many times, which has poor performance.  Consider joining all columns at once using pd.concat(axis=1) instead. To get a de-fragmented frame, use `newframe = frame.copy()`\n",
            "  data14['pa_hb30_1'] = np.where((data14['BE3_32'].isin([88,99]) | data14['BE3_33'].isin([88,99])), 0, data14['BE3_32'] * 60 + data14['BE3_33'])\n",
            "<ipython-input-4-af51349857b2>:197: SettingWithCopyWarning: \n",
            "A value is trying to be set on a copy of a slice from a DataFrame.\n",
            "Try using .loc[row_indexer,col_indexer] = value instead\n",
            "\n",
            "See the caveats in the documentation: https://pandas.pydata.org/pandas-docs/stable/user_guide/indexing.html#returning-a-view-versus-a-copy\n",
            "  selected14['pa_walk'] = (data14['BE3_31'].isin([4, 5, 6, 7, 8]) & (data14['pa_hb30_1'] >= 30)).astype(int)\n",
            "<ipython-input-4-af51349857b2>:200: SettingWithCopyWarning: \n",
            "A value is trying to be set on a copy of a slice from a DataFrame.\n",
            "Try using .loc[row_indexer,col_indexer] = value instead\n",
            "\n",
            "See the caveats in the documentation: https://pandas.pydata.org/pandas-docs/stable/user_guide/indexing.html#returning-a-view-versus-a-copy\n",
            "  selected14['total_sleep'] = np.where(data14['BP8'].isin([88, 99]), None, data14['BP8'])\n"
          ]
        },
        {
          "output_type": "stream",
          "name": "stdout",
          "text": [
            "(7550, 10)\n",
            "(4851, 10)\n",
            "--------------------\n"
          ]
        },
        {
          "output_type": "stream",
          "name": "stderr",
          "text": [
            "<ipython-input-4-af51349857b2>:215: SettingWithCopyWarning: \n",
            "A value is trying to be set on a copy of a slice from a DataFrame.\n",
            "Try using .loc[row_indexer,col_indexer] = value instead\n",
            "\n",
            "See the caveats in the documentation: https://pandas.pydata.org/pandas-docs/stable/user_guide/indexing.html#returning-a-view-versus-a-copy\n",
            "  selected15['sm_present'] = ((data15['BS1_1'].isin([1, 2])) & (data15['BS3_1'].isin([1, 2]))).astype(int)\n",
            "<ipython-input-4-af51349857b2>:218: PerformanceWarning: DataFrame is highly fragmented.  This is usually the result of calling `frame.insert` many times, which has poor performance.  Consider joining all columns at once using pd.concat(axis=1) instead. To get a de-fragmented frame, use `newframe = frame.copy()`\n",
            "  data15['pa_hb30_1'] = np.where((data15['BE3_32'].isin([88,99]) | data15['BE3_33'].isin([88,99])), 0, data15['BE3_32'] * 60 + data15['BE3_33'])\n",
            "<ipython-input-4-af51349857b2>:219: SettingWithCopyWarning: \n",
            "A value is trying to be set on a copy of a slice from a DataFrame.\n",
            "Try using .loc[row_indexer,col_indexer] = value instead\n",
            "\n",
            "See the caveats in the documentation: https://pandas.pydata.org/pandas-docs/stable/user_guide/indexing.html#returning-a-view-versus-a-copy\n",
            "  selected15['pa_walk'] = (data15['BE3_31'].isin([4, 5, 6, 7, 8]) & (data15['pa_hb30_1'] >= 30)).astype(int)\n",
            "<ipython-input-4-af51349857b2>:222: SettingWithCopyWarning: \n",
            "A value is trying to be set on a copy of a slice from a DataFrame.\n",
            "Try using .loc[row_indexer,col_indexer] = value instead\n",
            "\n",
            "See the caveats in the documentation: https://pandas.pydata.org/pandas-docs/stable/user_guide/indexing.html#returning-a-view-versus-a-copy\n",
            "  selected15['total_sleep'] = np.where(data15['BP8'].isin([88, 99]), None, data15['BP8'])\n"
          ]
        },
        {
          "output_type": "stream",
          "name": "stdout",
          "text": [
            "(7380, 10)\n",
            "(4947, 10)\n"
          ]
        },
        {
          "output_type": "stream",
          "name": "stderr",
          "text": [
            "<ipython-input-4-af51349857b2>:238: SettingWithCopyWarning: \n",
            "A value is trying to be set on a copy of a slice from a DataFrame.\n",
            "Try using .loc[row_indexer,col_indexer] = value instead\n",
            "\n",
            "See the caveats in the documentation: https://pandas.pydata.org/pandas-docs/stable/user_guide/indexing.html#returning-a-view-versus-a-copy\n",
            "  selected16['sm_present'] = ((data16['BS1_1'].isin([1, 2])) & (data16['BS3_1'].isin([1, 2]))).astype(int)\n",
            "<ipython-input-4-af51349857b2>:241: PerformanceWarning: DataFrame is highly fragmented.  This is usually the result of calling `frame.insert` many times, which has poor performance.  Consider joining all columns at once using pd.concat(axis=1) instead. To get a de-fragmented frame, use `newframe = frame.copy()`\n",
            "  data16['pa_hb30_1'] = np.where((data16['BE3_32'].isin([88,99]) | data16['BE3_33'].isin([88,99])), 0, data16['BE3_32'] * 60 + data16['BE3_33'])\n",
            "<ipython-input-4-af51349857b2>:242: SettingWithCopyWarning: \n",
            "A value is trying to be set on a copy of a slice from a DataFrame.\n",
            "Try using .loc[row_indexer,col_indexer] = value instead\n",
            "\n",
            "See the caveats in the documentation: https://pandas.pydata.org/pandas-docs/stable/user_guide/indexing.html#returning-a-view-versus-a-copy\n",
            "  selected16['pa_walk'] = (data16['BE3_31'].isin([4, 5, 6, 7, 8]) & (data16['pa_hb30_1'] >= 30)).astype(int)\n",
            "<ipython-input-4-af51349857b2>:245: SettingWithCopyWarning: \n",
            "A value is trying to be set on a copy of a slice from a DataFrame.\n",
            "Try using .loc[row_indexer,col_indexer] = value instead\n",
            "\n",
            "See the caveats in the documentation: https://pandas.pydata.org/pandas-docs/stable/user_guide/indexing.html#returning-a-view-versus-a-copy\n",
            "  selected16['total_sleep'] = np.where(data16['Total_slp_wk'].isin([8888, 9999]), None, data16['Total_slp_wk'] / 60)\n"
          ]
        },
        {
          "output_type": "stream",
          "name": "stdout",
          "text": [
            "(8150, 10)\n",
            "(5340, 10)\n"
          ]
        },
        {
          "output_type": "stream",
          "name": "stderr",
          "text": [
            "<ipython-input-4-af51349857b2>:259: SettingWithCopyWarning: \n",
            "A value is trying to be set on a copy of a slice from a DataFrame.\n",
            "Try using .loc[row_indexer,col_indexer] = value instead\n",
            "\n",
            "See the caveats in the documentation: https://pandas.pydata.org/pandas-docs/stable/user_guide/indexing.html#returning-a-view-versus-a-copy\n",
            "  selected17['sm_present'] = ((data17['BS1_1'].isin([1, 2])) & (data17['BS3_1'].isin([1, 2]))).astype(int)\n",
            "<ipython-input-4-af51349857b2>:262: PerformanceWarning: DataFrame is highly fragmented.  This is usually the result of calling `frame.insert` many times, which has poor performance.  Consider joining all columns at once using pd.concat(axis=1) instead. To get a de-fragmented frame, use `newframe = frame.copy()`\n",
            "  data17['pa_hb30_1'] = np.where((data17['BE3_32'].isin([88,99]) | data17['BE3_33'].isin([88,99])), 0, data17['BE3_32'] * 60 + data17['BE3_33'])\n",
            "<ipython-input-4-af51349857b2>:263: SettingWithCopyWarning: \n",
            "A value is trying to be set on a copy of a slice from a DataFrame.\n",
            "Try using .loc[row_indexer,col_indexer] = value instead\n",
            "\n",
            "See the caveats in the documentation: https://pandas.pydata.org/pandas-docs/stable/user_guide/indexing.html#returning-a-view-versus-a-copy\n",
            "  selected17['pa_walk'] = (data17['BE3_31'].isin([4, 5, 6, 7, 8]) & (data17['pa_hb30_1'] >= 30)).astype(int)\n",
            "<ipython-input-4-af51349857b2>:266: SettingWithCopyWarning: \n",
            "A value is trying to be set on a copy of a slice from a DataFrame.\n",
            "Try using .loc[row_indexer,col_indexer] = value instead\n",
            "\n",
            "See the caveats in the documentation: https://pandas.pydata.org/pandas-docs/stable/user_guide/indexing.html#returning-a-view-versus-a-copy\n",
            "  selected17['total_sleep'] = np.where(data17['Total_slp_wk'].isin([8888, 9999]), None, data17['Total_slp_wk'] / 60)\n"
          ]
        },
        {
          "output_type": "stream",
          "name": "stdout",
          "text": [
            "(8127, 10)\n",
            "(5344, 10)\n"
          ]
        },
        {
          "output_type": "stream",
          "name": "stderr",
          "text": [
            "<ipython-input-4-af51349857b2>:280: SettingWithCopyWarning: \n",
            "A value is trying to be set on a copy of a slice from a DataFrame.\n",
            "Try using .loc[row_indexer,col_indexer] = value instead\n",
            "\n",
            "See the caveats in the documentation: https://pandas.pydata.org/pandas-docs/stable/user_guide/indexing.html#returning-a-view-versus-a-copy\n",
            "  selected18['sm_present'] = ((data18['BS1_1'].isin([1, 2])) & (data18['BS3_1'].isin([1, 2]))).astype(int)\n",
            "<ipython-input-4-af51349857b2>:283: PerformanceWarning: DataFrame is highly fragmented.  This is usually the result of calling `frame.insert` many times, which has poor performance.  Consider joining all columns at once using pd.concat(axis=1) instead. To get a de-fragmented frame, use `newframe = frame.copy()`\n",
            "  data18['pa_hb30_1'] = np.where((data18['BE3_32'].isin([88,99]) | data18['BE3_33'].isin([88,99])), 0, data18['BE3_32'] * 60 + data18['BE3_33'])\n",
            "<ipython-input-4-af51349857b2>:284: SettingWithCopyWarning: \n",
            "A value is trying to be set on a copy of a slice from a DataFrame.\n",
            "Try using .loc[row_indexer,col_indexer] = value instead\n",
            "\n",
            "See the caveats in the documentation: https://pandas.pydata.org/pandas-docs/stable/user_guide/indexing.html#returning-a-view-versus-a-copy\n",
            "  selected18['pa_walk'] = (data18['BE3_31'].isin([4, 5, 6, 7, 8]) & (data18['pa_hb30_1'] >= 30)).astype(int)\n",
            "<ipython-input-4-af51349857b2>:287: SettingWithCopyWarning: \n",
            "A value is trying to be set on a copy of a slice from a DataFrame.\n",
            "Try using .loc[row_indexer,col_indexer] = value instead\n",
            "\n",
            "See the caveats in the documentation: https://pandas.pydata.org/pandas-docs/stable/user_guide/indexing.html#returning-a-view-versus-a-copy\n",
            "  selected18['total_sleep'] = np.where(data18['Total_slp_wk'].isin([8888, 9999]), None, data18['Total_slp_wk'] / 60)\n"
          ]
        },
        {
          "output_type": "stream",
          "name": "stdout",
          "text": [
            "(7992, 10)\n",
            "(5470, 10)\n"
          ]
        },
        {
          "output_type": "stream",
          "name": "stderr",
          "text": [
            "<ipython-input-4-af51349857b2>:301: SettingWithCopyWarning: \n",
            "A value is trying to be set on a copy of a slice from a DataFrame\n",
            "\n",
            "See the caveats in the documentation: https://pandas.pydata.org/pandas-docs/stable/user_guide/indexing.html#returning-a-view-versus-a-copy\n",
            "  selected19.rename(columns={'HE_PLS_15': 'HE_PLS'}, inplace=True)\n",
            "<ipython-input-4-af51349857b2>:304: SettingWithCopyWarning: \n",
            "A value is trying to be set on a copy of a slice from a DataFrame.\n",
            "Try using .loc[row_indexer,col_indexer] = value instead\n",
            "\n",
            "See the caveats in the documentation: https://pandas.pydata.org/pandas-docs/stable/user_guide/indexing.html#returning-a-view-versus-a-copy\n",
            "  selected19['sm_present'] = ((data19['BS1_1'].isin([1, 2])) & (data19['BS3_1'].isin([1, 2]))).astype(int)\n",
            "<ipython-input-4-af51349857b2>:307: PerformanceWarning: DataFrame is highly fragmented.  This is usually the result of calling `frame.insert` many times, which has poor performance.  Consider joining all columns at once using pd.concat(axis=1) instead. To get a de-fragmented frame, use `newframe = frame.copy()`\n",
            "  data19['pa_hb30_1'] = np.where((data19['BE3_32'].isin([88,99]) | data19['BE3_33'].isin([88,99])), 0, data19['BE3_32'] * 60 + data19['BE3_33'])\n",
            "<ipython-input-4-af51349857b2>:308: SettingWithCopyWarning: \n",
            "A value is trying to be set on a copy of a slice from a DataFrame.\n",
            "Try using .loc[row_indexer,col_indexer] = value instead\n",
            "\n",
            "See the caveats in the documentation: https://pandas.pydata.org/pandas-docs/stable/user_guide/indexing.html#returning-a-view-versus-a-copy\n",
            "  selected19['pa_walk'] = (data19['BE3_31'].isin([4, 5, 6, 7, 8]) & (data19['pa_hb30_1'] >= 30)).astype(int)\n",
            "<ipython-input-4-af51349857b2>:311: SettingWithCopyWarning: \n",
            "A value is trying to be set on a copy of a slice from a DataFrame.\n",
            "Try using .loc[row_indexer,col_indexer] = value instead\n",
            "\n",
            "See the caveats in the documentation: https://pandas.pydata.org/pandas-docs/stable/user_guide/indexing.html#returning-a-view-versus-a-copy\n",
            "  selected19['total_sleep'] = np.where(data19['BP16_1'].isin([88, 99]), None, data19['BP16_1'])\n"
          ]
        },
        {
          "output_type": "stream",
          "name": "stdout",
          "text": [
            "(8110, 10)\n",
            "(5695, 10)\n"
          ]
        },
        {
          "output_type": "stream",
          "name": "stderr",
          "text": [
            "<ipython-input-4-af51349857b2>:323: SettingWithCopyWarning: \n",
            "A value is trying to be set on a copy of a slice from a DataFrame.\n",
            "Try using .loc[row_indexer,col_indexer] = value instead\n",
            "\n",
            "See the caveats in the documentation: https://pandas.pydata.org/pandas-docs/stable/user_guide/indexing.html#returning-a-view-versus-a-copy\n",
            "  selected20['HE_PLS_30'] = round(selected20['HE_PLS_30'] / 2)\n",
            "<ipython-input-4-af51349857b2>:324: SettingWithCopyWarning: \n",
            "A value is trying to be set on a copy of a slice from a DataFrame\n",
            "\n",
            "See the caveats in the documentation: https://pandas.pydata.org/pandas-docs/stable/user_guide/indexing.html#returning-a-view-versus-a-copy\n",
            "  selected20.rename(columns={'HE_PLS_30': 'HE_PLS'}, inplace=True)\n",
            "<ipython-input-4-af51349857b2>:327: SettingWithCopyWarning: \n",
            "A value is trying to be set on a copy of a slice from a DataFrame.\n",
            "Try using .loc[row_indexer,col_indexer] = value instead\n",
            "\n",
            "See the caveats in the documentation: https://pandas.pydata.org/pandas-docs/stable/user_guide/indexing.html#returning-a-view-versus-a-copy\n",
            "  selected20['sm_present'] = ((data20['BS1_1'].isin([1, 2])) & (data20['BS3_1'].isin([1, 2]))).astype(int)\n",
            "<ipython-input-4-af51349857b2>:330: PerformanceWarning: DataFrame is highly fragmented.  This is usually the result of calling `frame.insert` many times, which has poor performance.  Consider joining all columns at once using pd.concat(axis=1) instead. To get a de-fragmented frame, use `newframe = frame.copy()`\n",
            "  data20['pa_hb30_1'] = np.where((data20['BE3_32'].isin([88,99]) | data20['BE3_33'].isin([88,99])), 0, data20['BE3_32'] * 60 + data20['BE3_33'])\n",
            "<ipython-input-4-af51349857b2>:331: SettingWithCopyWarning: \n",
            "A value is trying to be set on a copy of a slice from a DataFrame.\n",
            "Try using .loc[row_indexer,col_indexer] = value instead\n",
            "\n",
            "See the caveats in the documentation: https://pandas.pydata.org/pandas-docs/stable/user_guide/indexing.html#returning-a-view-versus-a-copy\n",
            "  selected20['pa_walk'] = (data20['BE3_31'].isin([4, 5, 6, 7, 8]) & (data20['pa_hb30_1'] >= 30)).astype(int)\n",
            "<ipython-input-4-af51349857b2>:334: SettingWithCopyWarning: \n",
            "A value is trying to be set on a copy of a slice from a DataFrame.\n",
            "Try using .loc[row_indexer,col_indexer] = value instead\n",
            "\n",
            "See the caveats in the documentation: https://pandas.pydata.org/pandas-docs/stable/user_guide/indexing.html#returning-a-view-versus-a-copy\n",
            "  selected20['total_sleep'] = np.where(data20['BP16_1'].isin([88, 99]), None, data20['BP16_1'])\n"
          ]
        },
        {
          "output_type": "stream",
          "name": "stdout",
          "text": [
            "(7359, 10)\n",
            "(5180, 10)\n"
          ]
        },
        {
          "output_type": "stream",
          "name": "stderr",
          "text": [
            "<ipython-input-4-af51349857b2>:346: SettingWithCopyWarning: \n",
            "A value is trying to be set on a copy of a slice from a DataFrame.\n",
            "Try using .loc[row_indexer,col_indexer] = value instead\n",
            "\n",
            "See the caveats in the documentation: https://pandas.pydata.org/pandas-docs/stable/user_guide/indexing.html#returning-a-view-versus-a-copy\n",
            "  selected21['HE_PLS_30'] = round(selected21['HE_PLS_30'] / 2)\n",
            "<ipython-input-4-af51349857b2>:347: SettingWithCopyWarning: \n",
            "A value is trying to be set on a copy of a slice from a DataFrame\n",
            "\n",
            "See the caveats in the documentation: https://pandas.pydata.org/pandas-docs/stable/user_guide/indexing.html#returning-a-view-versus-a-copy\n",
            "  selected21.rename(columns={'HE_PLS_30': 'HE_PLS'}, inplace=True)\n",
            "<ipython-input-4-af51349857b2>:350: SettingWithCopyWarning: \n",
            "A value is trying to be set on a copy of a slice from a DataFrame.\n",
            "Try using .loc[row_indexer,col_indexer] = value instead\n",
            "\n",
            "See the caveats in the documentation: https://pandas.pydata.org/pandas-docs/stable/user_guide/indexing.html#returning-a-view-versus-a-copy\n",
            "  selected21['sm_present'] = ((data21['BS1_1'].isin([1, 2])) & (data21['BS3_1'].isin([1, 2]))).astype(int)\n",
            "<ipython-input-4-af51349857b2>:353: PerformanceWarning: DataFrame is highly fragmented.  This is usually the result of calling `frame.insert` many times, which has poor performance.  Consider joining all columns at once using pd.concat(axis=1) instead. To get a de-fragmented frame, use `newframe = frame.copy()`\n",
            "  data21['pa_hb30_1'] = np.where((data21['BE3_32'].isin([88,99]) | data21['BE3_33'].isin([88,99])), 0, data21['BE3_32'] * 60 + data21['BE3_33'])\n",
            "<ipython-input-4-af51349857b2>:354: SettingWithCopyWarning: \n",
            "A value is trying to be set on a copy of a slice from a DataFrame.\n",
            "Try using .loc[row_indexer,col_indexer] = value instead\n",
            "\n",
            "See the caveats in the documentation: https://pandas.pydata.org/pandas-docs/stable/user_guide/indexing.html#returning-a-view-versus-a-copy\n",
            "  selected21['pa_walk'] = (data21['BE3_31'].isin([4, 5, 6, 7, 8]) & (data21['pa_hb30_1'] >= 30)).astype(int)\n",
            "<ipython-input-4-af51349857b2>:358: SettingWithCopyWarning: \n",
            "A value is trying to be set on a copy of a slice from a DataFrame.\n",
            "Try using .loc[row_indexer,col_indexer] = value instead\n",
            "\n",
            "See the caveats in the documentation: https://pandas.pydata.org/pandas-docs/stable/user_guide/indexing.html#returning-a-view-versus-a-copy\n",
            "  selected21['total_sleep'] = np.where((data21['BP16_11'].isin([88,99]) | data21['BP16_12'].isin([88,99]) | data21['BP16_13'].isin([88,99]) | data21['BP16_14'].isin([88,99])),\n"
          ]
        },
        {
          "output_type": "stream",
          "name": "stdout",
          "text": [
            "(7090, 10)\n",
            "(4613, 10)\n",
            "(6265, 10)\n",
            "(4393, 10)\n"
          ]
        },
        {
          "output_type": "stream",
          "name": "stderr",
          "text": [
            "<ipython-input-4-af51349857b2>:373: SettingWithCopyWarning: \n",
            "A value is trying to be set on a copy of a slice from a DataFrame.\n",
            "Try using .loc[row_indexer,col_indexer] = value instead\n",
            "\n",
            "See the caveats in the documentation: https://pandas.pydata.org/pandas-docs/stable/user_guide/indexing.html#returning-a-view-versus-a-copy\n",
            "  selected22['HE_PLS_30'] = round(selected22['HE_PLS_30'] / 2)\n",
            "<ipython-input-4-af51349857b2>:374: SettingWithCopyWarning: \n",
            "A value is trying to be set on a copy of a slice from a DataFrame\n",
            "\n",
            "See the caveats in the documentation: https://pandas.pydata.org/pandas-docs/stable/user_guide/indexing.html#returning-a-view-versus-a-copy\n",
            "  selected22.rename(columns={'HE_PLS_30': 'HE_PLS'}, inplace=True)\n",
            "<ipython-input-4-af51349857b2>:377: SettingWithCopyWarning: \n",
            "A value is trying to be set on a copy of a slice from a DataFrame.\n",
            "Try using .loc[row_indexer,col_indexer] = value instead\n",
            "\n",
            "See the caveats in the documentation: https://pandas.pydata.org/pandas-docs/stable/user_guide/indexing.html#returning-a-view-versus-a-copy\n",
            "  selected22['sm_present'] = ((data22['BS1_1'].isin([1, 2])) & (data22['BS3_1'].isin([1, 2]))).astype(int)\n",
            "<ipython-input-4-af51349857b2>:380: PerformanceWarning: DataFrame is highly fragmented.  This is usually the result of calling `frame.insert` many times, which has poor performance.  Consider joining all columns at once using pd.concat(axis=1) instead. To get a de-fragmented frame, use `newframe = frame.copy()`\n",
            "  data22['pa_hb30_1'] = np.where((data22['BE3_32'].isin([88,99]) | data22['BE3_33'].isin([88,99])), 0, data22['BE3_32'] * 60 + data22['BE3_33'])\n",
            "<ipython-input-4-af51349857b2>:381: SettingWithCopyWarning: \n",
            "A value is trying to be set on a copy of a slice from a DataFrame.\n",
            "Try using .loc[row_indexer,col_indexer] = value instead\n",
            "\n",
            "See the caveats in the documentation: https://pandas.pydata.org/pandas-docs/stable/user_guide/indexing.html#returning-a-view-versus-a-copy\n",
            "  selected22['pa_walk'] = (data22['BE3_31'].isin([4, 5, 6, 7, 8]) & (data22['pa_hb30_1'] >= 30)).astype(int)\n",
            "<ipython-input-4-af51349857b2>:384: SettingWithCopyWarning: \n",
            "A value is trying to be set on a copy of a slice from a DataFrame.\n",
            "Try using .loc[row_indexer,col_indexer] = value instead\n",
            "\n",
            "See the caveats in the documentation: https://pandas.pydata.org/pandas-docs/stable/user_guide/indexing.html#returning-a-view-versus-a-copy\n",
            "  selected22['total_sleep'] = np.where(data22['BP16_1'].isin([88, 99]), None, data22['BP16_1'])\n"
          ]
        }
      ]
    },
    {
      "cell_type": "markdown",
      "source": [
        "변수 재선정 후의 z-score 정규화 + robust 기법"
      ],
      "metadata": {
        "id": "TGwmW1OGHpuz"
      }
    },
    {
      "cell_type": "code",
      "source": [
        "from sklearn.model_selection import train_test_split\n",
        "# StandardScaler\n",
        "\n",
        "def mean_norm(df_input):\n",
        "    return df_input.apply(lambda x: (x - x.mean()) / x.std(), axis=0)\n",
        "\n",
        "df_temp = mean_norm(df)\n",
        "df['age'] = df_temp['age']\n",
        "df['HE_sbp'] = df_temp['HE_sbp']\n",
        "df['HE_dbp'] = df_temp['HE_dbp']\n",
        "df['HE_BMI'] = df_temp['HE_BMI']\n",
        "df['total_sleep'] = df_temp['total_sleep']\n",
        "\n",
        "x_train, x_test, y_train, y_test = train_test_split(df[['sex', 'age', 'HE_sbp', 'HE_dbp', 'HE_BMI', 'sm_present', 'pa_walk', 'total_sleep']],\n",
        "                                                    df['DI1_dg'], test_size = 0.2, random_state = 42, stratify = df['DI1_dg'])\n",
        "\n",
        "x_train = x_train.astype('float')\n",
        "x_test = x_test.astype('float')\n",
        "y_train = y_train.astype('int')\n",
        "y_test = y_test.astype('int')"
      ],
      "metadata": {
        "id": "VwEUVQkBmb2g"
      },
      "execution_count": null,
      "outputs": []
    },
    {
      "cell_type": "code",
      "source": [
        "from sklearn.model_selection import train_test_split\n",
        "# RobustScaler\n",
        "\n",
        "def robust_norm(df_input):\n",
        "    return df_input.apply(lambda x: (x - x.quantile(0.5)) / (x.quantile(0.75) - x.quantile(0.25)), axis=0)\n",
        "\n",
        "df_temp = robust_norm(df)\n",
        "df['age'] = df_temp['age']\n",
        "df['HE_sbp'] = df_temp['HE_sbp']\n",
        "df['HE_dbp'] = df_temp['HE_dbp']\n",
        "df['HE_BMI'] = df_temp['HE_BMI']\n",
        "df['total_sleep'] = df_temp['total_sleep']\n",
        "\n",
        "x_train, x_test, y_train, y_test = train_test_split(df[['sex', 'age', 'HE_sbp', 'HE_dbp', 'HE_BMI', 'sm_present', 'pa_walk', 'total_sleep']],\n",
        "                                                    df['DI1_dg'], test_size = 0.2, random_state = 42, stratify = df['DI1_dg'])\n",
        "\n",
        "x_train = x_train.astype('float')\n",
        "x_test = x_test.astype('float')\n",
        "y_train = y_train.astype('int')\n",
        "y_test = y_test.astype('int')"
      ],
      "metadata": {
        "id": "HQa1pCliBvRD"
      },
      "execution_count": null,
      "outputs": []
    }
  ],
  "metadata": {
    "colab": {
      "provenance": []
    },
    "kernelspec": {
      "display_name": "Python 3",
      "name": "python3"
    },
    "language_info": {
      "name": "python"
    }
  },
  "nbformat": 4,
  "nbformat_minor": 0
}